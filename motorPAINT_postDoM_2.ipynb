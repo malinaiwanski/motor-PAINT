{
 "cells": [
  {
   "cell_type": "markdown",
   "metadata": {},
   "source": [
    "### motorPAINT processing\n",
    "\n",
    "MK Iwanski <br>\n",
    "Universiteit Utrecht, Kaptein Lab <br>\n",
    "2020-04-07\n",
    "\n",
    "Based on the following codes from RP Tas: \n",
    "* 20160905_Dom1.0 Interpolation_applied to full dataset.py\n",
    "* 20160929_ParticleSep_Ability to choose DriftCorrFile or both Raw_Python3_Dom-V1.x.py"
   ]
  },
  {
   "cell_type": "code",
   "execution_count": 25,
   "metadata": {},
   "outputs": [],
   "source": [
    "# imports\n",
    "import numpy as np\n",
    "\n",
    "import sys as sys\n",
    "import os\n",
    "import tkinter as tk\n",
    "from tkinter import filedialog\n",
    "\n",
    "import matplotlib.pylab as plt\n",
    "import time"
   ]
  },
  {
   "cell_type": "code",
   "execution_count": 26,
   "metadata": {},
   "outputs": [],
   "source": [
    "# function for debugging\n",
    "def pause():\n",
    "    programPause = input('Press <ENTER> to continue.')"
   ]
  },
  {
   "cell_type": "code",
   "execution_count": 27,
   "metadata": {},
   "outputs": [
    {
     "name": "stdout",
     "output_type": "stream",
     "text": [
      "Results_driftcorrect_tracks\n"
     ]
    }
   ],
   "source": [
    "root = tk.Tk()\n",
    "root.withdraw()\n",
    "\n",
    "raw = filedialog.askopenfilename(title = 'choose Linked Particle table OR drifcorrected Linked Particle Table format:.csv' )  #Detected particles that were DomLinked\n",
    "\n",
    "basename = str(os.path.basename(raw))\n",
    "savename = basename[:-4]\n",
    "print (savename)\n",
    "os.chdir(os.path.dirname(raw))   #set your working directoryimport os\n",
    "\n",
    "drift = filedialog.askopenfilename(title = 'choose DriftCorrection file when drift correction is required ELSE cancel to continue as if already Drift Corrected')  #Driftcorrected file\n",
    "Driftcorr_OnOff = 0"
   ]
  },
  {
   "cell_type": "code",
   "execution_count": 28,
   "metadata": {},
   "outputs": [
    {
     "name": "stdout",
     "output_type": "stream",
     "text": [
      "no driftcorrected file inserted, continue as if already driftcorrected\n"
     ]
    }
   ],
   "source": [
    "start_time = time.time()\n",
    "original_time = start_time\n",
    "\n",
    "#directory = \"I:/TEMP/since 8-2/2016-03-01_DIV15_neurons/Roderick/particlesep\"\n",
    "#os.chdir(directory)   #set your working directory\n",
    "try:\n",
    "    DriftCorr = open(drift)        #Driftcorrected file by Dom on same file as infile should be csv\n",
    "    driftfile = open(raw)   #DetectedParticles + DomLinked\n",
    "except:\n",
    "    print ('no driftcorrected file inserted, continue as if already driftcorrected')\n",
    "    Driftcorr_OnOff = 1"
   ]
  },
  {
   "cell_type": "code",
   "execution_count": 29,
   "metadata": {},
   "outputs": [],
   "source": [
    "if Driftcorr_OnOff == 0:\n",
    "    line = DriftCorr.readline()\n",
    "\n",
    "    d_nm = {}\n",
    "    d_pix = {}\n",
    "\n",
    "    #infile = open('filename')\n",
    "\n",
    "    for line in DriftCorr:      \n",
    "        frameNr = int(line.split(',')[0])\n",
    "        driftxnm = float(line.split(',')[1])\n",
    "        driftynm = float(line.split(',')[2])\n",
    "        driftxpix = driftxnm / 65.\n",
    "        driftypix = driftynm / 65.\n",
    "        d_nm[frameNr] = (driftxnm,driftynm)\n",
    "        d_pix[frameNr] = (driftxpix,driftypix)\n",
    "    \n",
    "    DriftCorr.close()\n",
    "\n",
    "    print (max(d_nm))\n",
    "    a = max(d_nm)\n",
    "    b = min(d_nm)\n",
    "\n",
    "    myfile = open(savename+'_DriftCorr.csv','a+')\n",
    "    myfile.write(str(driftfile.readline()[:-1] + '\\n'))\n",
    "\n",
    "    for line2 in driftfile:\n",
    "        frame = int(float(line2.split(',')[3]))\n",
    "    \n",
    "        if frame in d_nm.keys():\n",
    "            xpix = float(line2.split(',')[1])+d_pix[frame][0]\n",
    "            ypix = float(line2.split(',')[2])+d_pix[frame][1]\n",
    "            xnm = float(line2.split(',')[4])+d_nm[frame][0]\n",
    "            ynm = float(line2.split(',')[6])+d_nm[frame][1]\n",
    "        elif frame < int(b) :\n",
    "            xpix = float(line2.split(',')[1])+d_pix[b][0]\n",
    "            ypix = float(line2.split(',')[2])+d_pix[b][1]\n",
    "            xnm = float(line2.split(',')[4])+d_nm[b][0]\n",
    "            ynm = float(line2.split(',')[6])+d_nm[b][1]\n",
    "        else:\n",
    "            xpix = float(line2.split(',')[1])+d_pix[a][0]\n",
    "            ypix = float(line2.split(',')[2])+d_pix[a][1]\n",
    "            xnm = float(line2.split(',')[4])+d_nm[a][0]\n",
    "            ynm = float(line2.split(',')[6])+d_nm[a][1]        \n",
    "        line3 = line2.replace((line2.split(',')[1]+','+line2.split(',')[2]+','+line2.split(',')[3]+','+line2.split(',')[4]+','+line2.split(',')[5] +','+line2.split(',')[6]), (str(xpix) + ',' + str(ypix) +','+line2.split(',')[3] + ',' + str(xnm) +','+line2.split(',')[5] + ',' + str(ynm)))\n",
    "        #print(line2, '\\n', line3)\n",
    "    \n",
    "#    line3 = line2[:-1] +','+ str(xnm) + ',' + str(ynm) + '\\n'\n",
    "        myfile.write(line3)\n",
    "\n",
    "    myfile.close()\n",
    "    \n",
    "    print(\"--- %s seconds ---for driftcorrection\" % (time.time() - start_time))"
   ]
  },
  {
   "cell_type": "code",
   "execution_count": 30,
   "metadata": {},
   "outputs": [],
   "source": [
    "\"\"\"start track determination\"\"\"\n",
    "\n",
    "try:\n",
    "    if Driftcorr_OnOff == 0:    \n",
    "        infile = open(savename+'_DriftCorr.csv', 'r')    #'all_Tracks20150528_purified_motors.csv', 'r'\n",
    "        newsavename = savename+'_DriftCorr.csv'\n",
    "    else:\n",
    "        infile = open(basename, 'r')\n",
    "        newsavename = basename\n",
    "        \n",
    "except IOError:\n",
    "    print ('sorry file not found')\n",
    "    sys.exit(1)\n",
    "    \n",
    "line = infile.readline()\n",
    "\n",
    "try:\n",
    "    line.split(',')[23]\n",
    "except IOError:\n",
    "    print('input has to be linked particle table')\n",
    "    sys.exit(1)\n",
    "    \n",
    "#if str(line.split(',')[23]) == 'Track_ID':\n",
    "#    print('Linked file inserted')         \n",
    "#else:\n",
    "#    print('input has to be linked particle table')\n",
    "#    sys.exit(1)"
   ]
  },
  {
   "cell_type": "code",
   "execution_count": 31,
   "metadata": {},
   "outputs": [],
   "source": [
    "# initialize variables\n",
    "ddd={}\n",
    "particleid = {}\n",
    "l=[]\n",
    "ll=[]\n",
    "vallist = []\n",
    "speedlist = []\n",
    "disp = [] # displacement of the particle of its total track\n",
    "degrees_list = []\n",
    "tracklen =[]    #length of the track in nm"
   ]
  },
  {
   "cell_type": "code",
   "execution_count": 32,
   "metadata": {},
   "outputs": [],
   "source": [
    "# parameters\n",
    "\"\"\" \n",
    "note most motors walk about 3 steps in neurons with approx 700 nm/sec this results in a big loss of data when filtered based on \n",
    "the amount of steps. Additional we should be able to filter on speed since they all walk with approx the same speed. \n",
    "or drastically increase imaging time\n",
    "stepsize of 4 does decrease the BGD dramatically but hwen low BGD you can choose for 3 as tracklength\n",
    "If @3 can be double the amount of tracks but this can be BGD\n",
    "\n",
    "\"\"\"\n",
    "mintracklength = 3 # default @ 4 because you loose lots of BGD without afecting the tracks you see too much minimum length of the tracks you want to include minimum is 3 because you need at least two segments to see if your track is straight\n",
    "maxtracklength = 200 #maximum length of tracks you want to include\n",
    "minspeed = 100 #nm/s included in the vectormap\n",
    "maxspeed = 15000 #nm/s included in the vectormap\n",
    "exptime = 0.10 # sec\n",
    "max_angle = 80# maximum angle that can be observed in a track default 75"
   ]
  },
  {
   "cell_type": "code",
   "execution_count": 33,
   "metadata": {},
   "outputs": [
    {
     "name": "stdout",
     "output_type": "stream",
     "text": [
      "294723\n",
      "--- 7.831585645675659 seconds ---Tracks Assigned\n"
     ]
    }
   ],
   "source": [
    "\"\"\" Here the file is read line by line and the parameters trackid (tid) particleid (pid) are determined with their predicted \n",
    "x and y coordinate Then these numbers together in a library are appended to a list and this list is sorted based on tid and pid\n",
    " \"\"\"\n",
    "\n",
    "start_time = time.time()\n",
    "\n",
    "while True:\n",
    "    line = infile.readline()\n",
    "    \n",
    "    if line:      \n",
    "        tid = int(line.split(',')[23])  #trackid\n",
    "        pid = int(line.split(',')[24])  #particleid\n",
    "        x = float(line.split(',')[4])\n",
    "        y = float(line.split(',')[6])\n",
    "        trlen = int(line.split(',')[25])\n",
    "        xy = (x,y)\n",
    "        \n",
    "#        print tid, pid, xy\n",
    "        if tid in ddd.keys():\n",
    "        # append the new number to the existing array at this slot\n",
    "            ddd[tid].append([pid,xy])\n",
    "        else:\n",
    "        # create a new array in this slot\n",
    "            ddd[tid] = [[pid,xy]]\n",
    "            \n",
    "    if not line:\n",
    "        break\n",
    "infile.close()\n",
    "\n",
    "#print (ddd)\n",
    "#print l\n",
    "print (len(ddd))\n",
    "#print (ll)\n",
    "#print lk\n",
    "\n",
    "print(\"--- %s seconds ---Tracks Assigned\" % (time.time() - start_time))"
   ]
  },
  {
   "cell_type": "code",
   "execution_count": 34,
   "metadata": {},
   "outputs": [],
   "source": [
    "red = []\n",
    "blue =[]\n",
    "green =[]\n",
    "yellow =[]\n",
    "LocRed = []  # #length of all tracks in red\n",
    "LocYellow = []  \n",
    "LocBlue =  []\n",
    "LocGreen = []\n",
    "\n",
    "redvalid = []\n",
    "greenvalid =  []\n",
    "bluevalid =[]\n",
    "yellowvalid =[]"
   ]
  },
  {
   "cell_type": "code",
   "execution_count": 35,
   "metadata": {},
   "outputs": [
    {
     "name": "stdout",
     "output_type": "stream",
     "text": [
      "--- 9.441375732421875e-05 seconds ---tracksFiltered\n"
     ]
    }
   ],
   "source": [
    "for i in range(0,len(ddd)): #len(l) is the length of all lines #here calculate dx,dy for all things with same tid in list l\n",
    "\n",
    "    start_time = time.time()\n",
    "    \n",
    "#    if z == j: #loop over sorted list and look for first value tid in the dictionary. see if it equals the counter: if the counter is already there--> fill in the values of this tid\n",
    "    if i in ddd.keys() and mintracklength<= len(ddd[i]) <= maxtracklength:\n",
    "        z = (ddd[i])\n",
    "#        print (z)\n",
    "#        print (len(z), z[1])\n",
    "        for j in range(0,len(z)):\n",
    "#            print (z[j][0], z[j][1])\n",
    "            vallist.append(z[j][1])\n",
    "            \n",
    "            if len(vallist) == 2: \n",
    "                vector1 = np.array([vallist[-1][0]-vallist[-2][0], vallist[-1][1]-vallist[-2][1], 0])   #calculate vector of particle track between this frame and the previous\n",
    "                x_modulus = np.sqrt((vector1*vector1).sum())    # calculate the distance traveled in the current segment of the track\n",
    "                tracklen.append(x_modulus)  #add the current displacement to a displacemtn list for this track\n",
    "            \n",
    "            elif len(vallist)>2:  \n",
    "                vector1 = np.array([vallist[-1][0]-vallist[-2][0], vallist[-1][1]-vallist[-2][1], 0])   #calculate vector of particle track between this frame and the previous\n",
    "                x_modulus = np.sqrt((vector1*vector1).sum())    # calculate the distance traveled in the current segment of the track\n",
    "                tracklen.append(x_modulus)  #add the current displacement to a displacemtn list for this track\n",
    "           \n",
    "            \n",
    "                vector2 = np.array([vallist[-2][0]-vallist[-3][0], vallist[-2][1]-vallist[-3][1], 0])   #calculate previous vector to calculate the scalar/dot product\n",
    "                dot = np.dot(vector1 , vector2) #calculate the dot product\n",
    "            \n",
    "                y_modulus = np.sqrt((vector2*vector2).sum())\n",
    "                cosine = dot /x_modulus/y_modulus  #calculate the cosine between the current segment of the track and the previous should be below 90 degrees otherwise the particle will turn back and it will be a reversal or a non processive track\n",
    "                angle = np.arccos(cosine)\n",
    "                degrees = angle * 360 / 2 / np.pi\n",
    "                degrees_list.append(degrees)\n",
    "            \n",
    "        if max(degrees_list) < max_angle:      \n",
    "            speed = (sum(tracklen))/(len(tracklen))/exptime         #velocity um/s of motor based on last coordinate and first coordinate divided by the time(amount of frames it took to get there frame is 100ms generally)           \n",
    "            x0 = float(vallist[0][0])\n",
    "            y0 = float(vallist[0][1])\n",
    "            dx = (float(vallist[-1][0])- x0) #final displacement in x based on first and last point\n",
    "            dy = (float(vallist[-1][1])- y0) #final displacement in y based on first and last point\n",
    "            \n",
    "#                print 'plt'\n",
    "            if dy < 0 and dx >0  and speed > minspeed:    #Dom inverts the pixels for some reason so this can be inverted\n",
    "                color = 'r'\n",
    "                LocRed.append(len(vallist))\n",
    "                redvalid.append(i) #add valid trackno for these red values \n",
    "                \n",
    "            elif dy>0 and dx <0  and speed > minspeed:\n",
    "                color = 'g'\n",
    "                LocGreen.append(len(vallist))\n",
    "                greenvalid.append(i)\n",
    "            \n",
    "            elif dy < 0 and dx <0  and speed > minspeed:\n",
    "                color = 'y'\n",
    "                LocYellow.append(len(vallist))\n",
    "                yellowvalid.append(i)\n",
    "                \n",
    "            elif speed > minspeed:\n",
    "                color = 'b'\n",
    "                LocBlue.append(len(vallist))\n",
    "                bluevalid.append(i)\n",
    "\n",
    "            speedlist.append(speed)      \n",
    "        del vallist[:] #clear the value list for the next trackid\n",
    "        del degrees_list[:]\n",
    "        del tracklen[:]\n",
    "\n",
    "print(\"--- %s seconds ---tracksFiltered\" % (time.time() - start_time))"
   ]
  },
  {
   "cell_type": "code",
   "execution_count": 36,
   "metadata": {},
   "outputs": [
    {
     "data": {
      "image/png": "[encoded data removed]",
      "text/plain": [
       "<Figure size 432x288 with 1 Axes>"
      ]
     },
     "metadata": {
      "needs_background": "light"
     },
     "output_type": "display_data"
    },
    {
     "name": "stdout",
     "output_type": "stream",
     "text": [
      "20127 5447 3423 3836 7339\n",
      "total amount of localizations is red: 23957 Green: 14012 Blue: 16453 Yellow: 32674\n"
     ]
    }
   ],
   "source": [
    "f = open(savename + 'speed.txt','w')\n",
    "f.write(\"\\n\".join(map(lambda x: str(x), speedlist)))\n",
    "f.close()\n",
    "\n",
    "plt.figure()\n",
    "plt.hist(speedlist, range = [0., 3000.], bins = 400,)\n",
    "plt.axvline(np.median(speedlist), color = 'b', linewidth = 4)\n",
    "plt.title(\"Speed histogram\")\n",
    "plt.xlabel(\"speed (nm/s)\")\n",
    "plt.ylabel(\"frequency\")\n",
    "\n",
    "plt.show()\n",
    "\n",
    "print (len(speedlist), len(LocRed), len(LocGreen), len(LocBlue), len(LocYellow))\n",
    "print ('total amount of localizations is' , 'red:',sum(LocRed), 'Green:',sum(LocGreen), 'Blue:',sum(LocBlue), 'Yellow:',sum(LocYellow))\n"
   ]
  },
  {
   "cell_type": "code",
   "execution_count": 37,
   "metadata": {},
   "outputs": [
    {
     "name": "stdout",
     "output_type": "stream",
     "text": [
      "--- 46.05773878097534 seconds ---\n"
     ]
    }
   ],
   "source": [
    "infile2 = open(newsavename, 'r')\n",
    "myfile_yellow = open(savename +'_LT.csv','a+')\n",
    "myfile_green =open(savename +'_LB.csv','a+')\n",
    "myfile_blue =open(savename +'_RB.csv','a+')\n",
    "myfile_red =open(savename +'_RT.csv','a+')\n",
    "\n",
    "title = infile2.readline()[:-1]\n",
    "myfile_red.write(title + '\\n')\n",
    "myfile_green.write(title + '\\n')\n",
    "myfile_blue.write(title + '\\n')\n",
    "myfile_yellow.write(title + '\\n')\n",
    "\n",
    "redvalid2 = np.array(redvalid)\n",
    "greenvalid2=np.array(greenvalid)\n",
    "yellowvalid2 = np.array(yellowvalid)\n",
    "bluevalid2 = np.array(bluevalid)\n",
    "\n",
    "for line2 in infile2:\n",
    "    tid = line2.split(',')[23]\n",
    "\n",
    "    if int(tid) in redvalid2:\n",
    "        line3 = line2[:-1] + '\\n'\n",
    "        myfile_red.write(line3)\n",
    "    elif int(tid) in greenvalid2:\n",
    "        line3 = line2[:-1] + '\\n'\n",
    "        myfile_green.write(line3)\n",
    "    elif int(tid) in bluevalid2:  \n",
    "        line3 = line2[:-1] + '\\n'\n",
    "        myfile_blue.write(line3)\n",
    "    elif int(tid) in yellowvalid2:  \n",
    "        line3 = line2[:-1] + '\\n'\n",
    "        myfile_yellow.write(line3)\n",
    "   \n",
    "myfile_red.close()\n",
    "myfile_green.close()\n",
    "myfile_blue.close()\n",
    "myfile_yellow.close()\n",
    "infile2.close()\n",
    "    \n",
    "print(\"--- %s seconds ---\" % (time.time() - original_time))"
   ]
  },
  {
   "cell_type": "code",
   "execution_count": null,
   "metadata": {},
   "outputs": [],
   "source": []
  }
 ],
 "metadata": {
  "kernelspec": {
   "display_name": "Python 3",
   "language": "python",
   "name": "python3"
  },
  "language_info": {
   "codemirror_mode": {
    "name": "ipython",
    "version": 3
   },
   "file_extension": ".py",
   "mimetype": "text/x-python",
   "name": "python",
   "nbconvert_exporter": "python",
   "pygments_lexer": "ipython3",
   "version": "3.7.6"
  }
 },
 "nbformat": 4,
 "nbformat_minor": 4
}
